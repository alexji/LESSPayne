{
 "cells": [
  {
   "cell_type": "markdown",
   "id": "1e8f2d99",
   "metadata": {},
   "source": [
    "This is a quick rundown of how to run LESSPayne by writing python code.\n",
    "\n",
    "The script LESSPayne/LESSPayne/cli/run.py allows you to do this from the command line"
   ]
  },
  {
   "cell_type": "code",
   "execution_count": 1,
   "id": "6d68f8b6",
   "metadata": {},
   "outputs": [],
   "source": [
    "import yaml\n",
    "\n",
    "# Imports for automatic running\n",
    "from LESSPayne.PayneEchelle.run_payne_echelle import run_payne_echelle\n",
    "from LESSPayne.autosmh.run_normalization import run_normalization\n",
    "from LESSPayne.autosmh.run_eqw_fit import run_eqw_fit\n",
    "from LESSPayne.autosmh.run_stellar_parameters import run_stellar_parameters\n",
    "from LESSPayne.autosmh.run_synth_fit import run_synth_fit\n",
    "\n",
    "## Restart and Run All to get the total runtime to fit this spectrum\n",
    "import time\n",
    "startall = time.time()"
   ]
  },
  {
   "cell_type": "code",
   "execution_count": 2,
   "id": "36180174",
   "metadata": {},
   "outputs": [],
   "source": [
    "## This is an example configuration file for LESSPayne, parsed with yaml\n",
    "\n",
    "## What is generally recommended is to put this in a file and load it\n",
    "## But for this tutorial we'll put it in a string\n",
    "cfg_string = \"\"\"\n",
    "# These directories are automatically created\n",
    "output_directory: ./outputs\n",
    "figure_directory: ./figs\n",
    "# This is used to set filenames, make it unique for each object\n",
    "output_name: tutorial-hd122563\n",
    "# TODO Specify the spectrum filenames\n",
    "# If there's only one file, just do one row, but don't remove the dash (-) or it may break\n",
    "# Make sure the first one contains your autovelocity wavelength range\n",
    "spectrum_fnames:\n",
    "- ./hd122563red_multi.fits\n",
    "- ./hd122563blue_multi.fits\n",
    "# Note: right now most code will ignore this flag and always overwrite\n",
    "# To be updated later\n",
    "overwrite_files: True\n",
    "payne_fname: tutorial-hd122563_paynefit.npz\n",
    "smh_fname: tutorial-hd122563_lesspayne.smh\n",
    "# TODO update this to point to the actual file\n",
    "NN_file: ./NN_normalized_spectra_float16_fixwave.npz\n",
    "# parameters for automatic velocity finding\n",
    "autovelocity:\n",
    "  # TODO update this to point to the actual file\n",
    "  template_spectrum_fname: hd122563.fits\n",
    "  wavelength_region_min: 5150\n",
    "  wavelength_region_max: 5200\n",
    "# parameters for automatic payne fit\n",
    "payne:\n",
    "  # automatically find the velocity from xcor\n",
    "  initial_velocity: null\n",
    "  # restrict the wavelength range\n",
    "  # the full allowed range is 3500-10000A\n",
    "  wmin: 4800\n",
    "  wmax: 7000\n",
    "  mask_list:\n",
    "  - - 6276\n",
    "    - 6320\n",
    "  - - 6866\n",
    "    - 6881\n",
    "  - - 6883\n",
    "    - 6962\n",
    "  - - 6985\n",
    "    - 7070\n",
    "  rv_target_wavelengths:\n",
    "  - 5183\n",
    "  - 4861\n",
    "  initial_parameters:\n",
    "    Teff: 4500\n",
    "    logg: 1.5\n",
    "    MH:   -2.0\n",
    "    aFe:  0.4\n",
    "  save_figures: False\n",
    "run_normalization:\n",
    "  # threshold for deciding whether to mask a line in the Payne model\n",
    "  mask_sigma: 4.0\n",
    "  # parameters for growing the mask size a bit\n",
    "  mask_smooth: 2\n",
    "  mask_thresh: 0.15\n",
    "  # maximum fraction of masked pixels per order; increases mask_sigma by 0.5 until reached\n",
    "  max_mask_frac: 0.8\n",
    "  # minimum fraction of unmasked pixels/knot; increases knot_spacing by 2 until reached\n",
    "  min_frac_per_knot: 0.05\n",
    "  # blue and red trim in pixels\n",
    "  blue_trim: 30\n",
    "  red_trim: 30\n",
    "  # normalization kwargs\n",
    "  continuum_spline_order: 3\n",
    "  continuum_max_iterations: 5\n",
    "  # Flag to output a normalization figure\n",
    "  save_figure: True\n",
    "run_eqw_fit:\n",
    "  max_fwhm: 1.0\n",
    "  # TODO update this to point to the right filename\n",
    "  eqw_linelist_fname: rpa2k.eqwshort-moog.txt\n",
    "  extra_eqw_linelist_fname: null\n",
    "  # threshold for deciding whether to mask a line in the Payne model\n",
    "  mask_sigma: 2.0\n",
    "  # parameters for growing the mask size a bit\n",
    "  mask_smooth: 2\n",
    "  mask_thresh: 0.15\n",
    "  clear_all_existing_fits: True\n",
    "  save_figure: False\n",
    "run_stellar_parameters:\n",
    "  method: rpa_calibration\n",
    "  manual_Teff: null\n",
    "  manual_logg: null\n",
    "  manual_vt: null\n",
    "  manual_MH: null\n",
    "  manual_aFe: 0.4\n",
    "  measure_eqw_abundances: True\n",
    "  save_figure_eqw: True\n",
    "run_synth_fit:\n",
    "  max_fwhm: 1.0\n",
    "  # Note: check the paths in the master list to make sure they're right!\n",
    "  # TODO update this list\n",
    "  synthesis_linelist_fname: quick.synth-master-v1.txt\n",
    "  #synthesis_linelist_fname: null\n",
    "  extra_synthesis_linelist_fname: null\n",
    "  # number of times to iterate through fitting all syntheses\n",
    "  # the actual number of iterations is 2x this: the first set puts a smoothing prior,\n",
    "  # while the second set uses known abundances\n",
    "  # the runtime is essentially proportional to this x the number of synthesis lines\n",
    "  num_iter_all: 2\n",
    "  # each optimization takes a few times to minimize the chi2\n",
    "  max_iter_each: 3\n",
    "  # parameters for initial prior on smoothing in Angstroms\n",
    "  smooth_approx: 0.1\n",
    "  smooth_scale : 0.3\n",
    "  # Set O, Si, Ca, Ti to [Mg/Fe]: currently forced to be true, capped at +/- 0.4\n",
    "  # use_MgFe_for_aFe: True\n",
    "  # Set neutron-capture elements to r-process value: currently forced to be true\n",
    "  # use_EuFe_for_rproc: True\n",
    "  clear_all_existing_syntheses: False\n",
    "  save_figure: True\n",
    "# Not used yet\n",
    "run_errors:\n",
    "  calculate_stellar_params_spectroscopic_uncertainties: False\n",
    "  e_Teff: 50\n",
    "  e_logg: 0.1\n",
    "  e_vt: 0.1\n",
    "  e_MH: 0.1\n",
    "  save_figure: True\n",
    "# Not used yet\n",
    "run_plot:\n",
    "\"\"\""
   ]
  },
  {
   "cell_type": "code",
   "execution_count": 3,
   "id": "3667eb8f",
   "metadata": {},
   "outputs": [],
   "source": [
    "cfg = yaml.load(cfg_string, yaml.FullLoader)"
   ]
  },
  {
   "cell_type": "code",
   "execution_count": 4,
   "id": "00a51ae1",
   "metadata": {},
   "outputs": [
    {
     "data": {
      "text/plain": [
       "{'output_directory': './outputs',\n",
       " 'figure_directory': './figs',\n",
       " 'output_name': 'tutorial-hd122563',\n",
       " 'spectrum_fnames': ['./hd122563red_multi.fits', './hd122563blue_multi.fits'],\n",
       " 'overwrite_files': True,\n",
       " 'payne_fname': 'tutorial-hd122563_paynefit.npz',\n",
       " 'smh_fname': 'tutorial-hd122563_lesspayne.smh',\n",
       " 'NN_file': './NN_normalized_spectra_float16_fixwave.npz',\n",
       " 'autovelocity': {'template_spectrum_fname': 'hd122563.fits',\n",
       "  'wavelength_region_min': 5150,\n",
       "  'wavelength_region_max': 5200},\n",
       " 'payne': {'initial_velocity': None,\n",
       "  'wmin': 4800,\n",
       "  'wmax': 7000,\n",
       "  'mask_list': [[6276, 6320], [6866, 6881], [6883, 6962], [6985, 7070]],\n",
       "  'rv_target_wavelengths': [5183, 4861],\n",
       "  'initial_parameters': {'Teff': 4500, 'logg': 1.5, 'MH': -2.0, 'aFe': 0.4},\n",
       "  'save_figures': False},\n",
       " 'run_normalization': {'mask_sigma': 4.0,\n",
       "  'mask_smooth': 2,\n",
       "  'mask_thresh': 0.15,\n",
       "  'max_mask_frac': 0.8,\n",
       "  'min_frac_per_knot': 0.05,\n",
       "  'blue_trim': 30,\n",
       "  'red_trim': 30,\n",
       "  'continuum_spline_order': 3,\n",
       "  'continuum_max_iterations': 5,\n",
       "  'save_figure': True},\n",
       " 'run_eqw_fit': {'max_fwhm': 1.0,\n",
       "  'eqw_linelist_fname': 'rpa2k.eqwshort-moog.txt',\n",
       "  'extra_eqw_linelist_fname': None,\n",
       "  'mask_sigma': 2.0,\n",
       "  'mask_smooth': 2,\n",
       "  'mask_thresh': 0.15,\n",
       "  'clear_all_existing_fits': True,\n",
       "  'save_figure': False},\n",
       " 'run_stellar_parameters': {'method': 'rpa_calibration',\n",
       "  'manual_Teff': None,\n",
       "  'manual_logg': None,\n",
       "  'manual_vt': None,\n",
       "  'manual_MH': None,\n",
       "  'manual_aFe': 0.4,\n",
       "  'measure_eqw_abundances': True,\n",
       "  'save_figure_eqw': True},\n",
       " 'run_synth_fit': {'max_fwhm': 1.0,\n",
       "  'synthesis_linelist_fname': 'quick.synth-master-v1.txt',\n",
       "  'extra_synthesis_linelist_fname': None,\n",
       "  'num_iter_all': 2,\n",
       "  'max_iter_each': 3,\n",
       "  'smooth_approx': 0.1,\n",
       "  'smooth_scale': 0.3,\n",
       "  'clear_all_existing_syntheses': False,\n",
       "  'save_figure': True},\n",
       " 'run_errors': {'calculate_stellar_params_spectroscopic_uncertainties': False,\n",
       "  'e_Teff': 50,\n",
       "  'e_logg': 0.1,\n",
       "  'e_vt': 0.1,\n",
       "  'e_MH': 0.1,\n",
       "  'save_figure': True},\n",
       " 'run_plot': None}"
      ]
     },
     "execution_count": 4,
     "metadata": {},
     "output_type": "execute_result"
    }
   ],
   "source": [
    "## This parses into a dictionary as you can see\n",
    "cfg"
   ]
  },
  {
   "cell_type": "code",
   "execution_count": 5,
   "id": "eb50ea53",
   "metadata": {},
   "outputs": [
    {
     "name": "stderr",
     "output_type": "stream",
     "text": [
      "2023-01-09 14:15:20,272 [INFO    ] Recognized CarPy product. Using zero-indexed flux/noise extensions (bands) 1/2\n",
      "WARNING:root:Calculating celestial corrections based on the UT-START only\n"
     ]
    },
    {
     "name": "stdout",
     "output_type": "stream",
     "text": [
      "Saving to output directory: ./outputs ./outputs/tutorial-hd122563_paynefit.npz\n",
      "Saving figures to output directory: ./figs\n",
      "{'initial_velocity': None, 'wmin': 4800, 'wmax': 7000, 'mask_list': [[6276, 6320], [6866, 6881], [6883, 6962], [6985, 7070]], 'rv_target_wavelengths': [5183, 4861], 'initial_parameters': {'Teff': 4500, 'logg': 1.5, 'MH': -2.0, 'aFe': 0.4}, 'save_figures': False}\n",
      "Automatic velocity with template hd122563.fits\n"
     ]
    },
    {
     "name": "stderr",
     "output_type": "stream",
     "text": [
      "2023-01-09 14:15:20,778 [INFO    ] Recognized CarPy product. Using zero-indexed flux/noise extensions (bands) 1/2\n",
      "INFO:LESSPayne.specutils.spectrum:Recognized CarPy product. Using zero-indexed flux/noise extensions (bands) 1/2\n"
     ]
    },
    {
     "name": "stdout",
     "output_type": "stream",
     "text": [
      "Automatic velocity from 5150-5200: -52.8 (+ 27.8 for vhel)\n",
      "Keeping 21/34 orders between 4800-7000\n",
      "Keeping 21/34 orders between 4800-7000\n",
      "Median RV order wavelength: {np.median(wavelength[iorder]):.1f}\n",
      "Running with PayneEchelle (./NN_normalized_spectra_float16_fixwave.npz)\n",
      "starting fit\n",
      "Pre Fit: Finding the best radial velocity initialization\n",
      "1 / 1\n",
      "Pre Fit: Fitting the blaze-normalized spectrum\n",
      "1 / 1\n",
      "Pre Fit: Finding the best continuum initialization\n",
      "Final Fit: Fitting the whole spectrum with all parameters simultaneously\n",
      "p0: Teff=4616 logg=1.44 FeH=-2.89 aFe=0.31\n",
      "  chunk 0-20 rv=-53.2 vbroad=2.1\n",
      "1 / 1\n",
      "PayneEchelle Fit Took 84.0\n",
      "[Teff [K], logg, Fe/H, Alpha/Fe] =  4640.0 1.52 -2.81 0.33\n",
      "vbroad [km/s] =  2.2\n",
      "RV [km/s] =  -53.1\n",
      "Chi square =  11.845178354641858\n",
      "TOTAL TIME: 85.4\n"
     ]
    }
   ],
   "source": [
    "# run PayneEchelle. Creates outputs/tutorial-hd122563_paynefit.npz and some figures\n",
    "run_payne_echelle(cfg)"
   ]
  },
  {
   "cell_type": "code",
   "execution_count": 6,
   "id": "890b59ce",
   "metadata": {
    "scrolled": true
   },
   "outputs": [
    {
     "name": "stderr",
     "output_type": "stream",
     "text": [
      "2023-01-09 14:16:45,696 [INFO    ] Recognized CarPy product. Using zero-indexed flux/noise extensions (bands) 1/2\n",
      "INFO:LESSPayne.specutils.spectrum:Recognized CarPy product. Using zero-indexed flux/noise extensions (bands) 1/2\n",
      "2023-01-09 14:16:45,725 [INFO    ] Recognized CarPy product. Using zero-indexed flux/noise extensions (bands) 1/2\n",
      "INFO:LESSPayne.specutils.spectrum:Recognized CarPy product. Using zero-indexed flux/noise extensions (bands) 1/2\n"
     ]
    },
    {
     "name": "stdout",
     "output_type": "stream",
     "text": [
      "Saving to output directory: ./outputs\n",
      "Saving figures to output directory: ./figs\n"
     ]
    },
    {
     "name": "stderr",
     "output_type": "stream",
     "text": [
      "WARNING:root:Calculating celestial corrections based on the UT-START only\n"
     ]
    },
    {
     "name": "stdout",
     "output_type": "stream",
     "text": [
      "Correcting at rv=-53.2\n",
      "Total to load in data: 0.4\n",
      "norm params [-0.32447051 -0.1942757  -0.27362286  0.17085493  1.          0.\n",
      "  0.          0.          0.          0.          0.          2.23841138\n",
      " -0.53183321]\n",
      "Wave=3362 SNR=9.2\n",
      "Model evaluation exception at wave=3326-3399, no masks\n",
      "A value in x_new is below the interpolation range.\n",
      "  num_mask=0/2048\n",
      "Wave=3389 SNR=12.9\n",
      "Model evaluation exception at wave=3353-3426, no masks\n",
      "A value in x_new is below the interpolation range.\n",
      "  num_mask=0/2048\n",
      "Wave=3421 SNR=16.1\n",
      "Model evaluation exception at wave=3385-3458, no masks\n",
      "A value in x_new is below the interpolation range.\n",
      "  num_mask=0/2048\n",
      "Wave=3455 SNR=19.7\n",
      "Model evaluation exception at wave=3418-3491, no masks\n",
      "A value in x_new is below the interpolation range.\n",
      "  num_mask=0/2048\n",
      "Wave=3488 SNR=23.2\n",
      "Model evaluation exception at wave=3451-3525, no masks\n",
      "A value in x_new is below the interpolation range.\n",
      "  num_mask=0/2048\n",
      "Wave=3523 SNR=27.7\n",
      "Model evaluation exception at wave=3486-3560, no masks\n",
      "A value in x_new is below the interpolation range.\n",
      "  num_mask=0/2048\n",
      "Wave=3558 SNR=29.7\n",
      "  num_mask=1077/2048\n",
      "Wave=3594 SNR=31.1\n",
      "  num_mask=1097/2048\n",
      "Wave=3630 SNR=36.0\n",
      "  num_mask=1380/2048\n",
      "Wave=3668 SNR=43.1\n",
      "  0.88 > 0.8 increasing mask_sigma to 4.5\n",
      "  0.83 > 0.8 increasing mask_sigma to 5.0\n",
      "  num_mask=1590/2048\n",
      "Wave=3706 SNR=48.1\n",
      "  num_mask=1576/2048\n",
      "Wave=3745 SNR=54.6\n",
      "  num_mask=1328/2048\n",
      "Wave=3785 SNR=64.7\n",
      "  num_mask=1243/2048\n",
      "Wave=3826 SNR=70.8\n",
      "  num_mask=1253/2048\n",
      "Wave=3867 SNR=77.4\n",
      "  num_mask=1425/2048\n",
      "Wave=3910 SNR=72.3\n",
      "  0.85 > 0.8 increasing mask_sigma to 4.5\n",
      "  0.82 > 0.8 increasing mask_sigma to 5.0\n",
      "  0.80 > 0.8 increasing mask_sigma to 5.5\n",
      "  num_mask=1611/2048\n",
      "Wave=3953 SNR=85.3\n",
      "  0.87 > 0.8 increasing mask_sigma to 4.5\n",
      "  0.84 > 0.8 increasing mask_sigma to 5.0\n",
      "  num_mask=1634/2048\n",
      "Wave=3998 SNR=111.3\n",
      "  num_mask=1431/2048\n",
      "Wave=4043 SNR=120.6\n",
      "  num_mask=1217/2048\n",
      "Wave=4090 SNR=132.4\n",
      "  num_mask=1161/2048\n",
      "Wave=4137 SNR=142.1\n",
      "  num_mask=1148/2048\n",
      "Wave=4186 SNR=150.2\n",
      "  num_mask=1292/2048\n",
      "Wave=4236 SNR=159.2\n",
      "  num_mask=1531/2048\n",
      "Wave=4287 SNR=165.0\n",
      "  0.82 > 0.8 increasing mask_sigma to 4.5\n",
      "  0.81 > 0.8 increasing mask_sigma to 5.0\n",
      "  0.81 > 0.8 increasing mask_sigma to 5.5\n",
      "  num_mask=1624/2048\n",
      "Wave=4340 SNR=178.4\n",
      "  0.82 > 0.8 increasing mask_sigma to 4.5\n",
      "  0.81 > 0.8 increasing mask_sigma to 5.0\n",
      "  num_mask=1615/2048\n",
      "Wave=4393 SNR=188.5\n",
      "  num_mask=1540/2048\n",
      "Wave=4448 SNR=200.6\n",
      "  num_mask=1085/2048\n",
      "Wave=4505 SNR=211.3\n",
      "  num_mask=769/2048\n",
      "Wave=4562 SNR=218.7\n",
      "  num_mask=717/2048\n",
      "Wave=4622 SNR=233.7\n",
      "  num_mask=608/2048\n",
      "Wave=4683 SNR=243.2\n",
      "  num_mask=431/2048\n",
      "Wave=4745 SNR=246.6\n",
      "  num_mask=391/2048\n",
      "Wave=4809 SNR=248.5\n",
      "  num_mask=382/2048\n",
      "Wave=4875 SNR=237.9\n",
      "  num_mask=607/2048\n",
      "Wave=4904 SNR=56.0\n",
      "  num_mask=198/2048\n",
      "Wave=4943 SNR=226.1\n",
      "  num_mask=397/2048\n",
      "Wave=4974 SNR=85.0\n",
      "  num_mask=362/2048\n",
      "Wave=5013 SNR=185.8\n",
      "  num_mask=521/2048\n",
      "Wave=5047 SNR=121.0\n",
      "  num_mask=464/2048\n",
      "Wave=5123 SNR=148.3\n",
      "  num_mask=529/2048\n",
      "Wave=5201 SNR=169.7\n",
      "  num_mask=640/2048\n",
      "Wave=5281 SNR=189.0\n",
      "  num_mask=461/2048\n",
      "Wave=5364 SNR=197.4\n",
      "  num_mask=346/2048\n",
      "Wave=5449 SNR=209.7\n",
      "  num_mask=312/2048\n",
      "Wave=5537 SNR=235.2\n",
      "  num_mask=295/2048\n",
      "Wave=5628 SNR=262.8\n",
      "  num_mask=257/2048\n",
      "Wave=5722 SNR=278.7\n",
      "  num_mask=132/2048\n",
      "Wave=5819 SNR=297.5\n",
      "  num_mask=106/2048\n",
      "Wave=5919 SNR=316.6\n",
      "  num_mask=128/2048\n",
      "Wave=6023 SNR=339.6\n",
      "  num_mask=112/2048\n",
      "Wave=6131 SNR=353.7\n",
      "  num_mask=198/2048\n",
      "Wave=6243 SNR=373.5\n",
      "  num_mask=269/2048\n",
      "Wave=6358 SNR=395.0\n",
      "  num_mask=184/2048\n",
      "Wave=6479 SNR=415.3\n",
      "  num_mask=332/2048\n",
      "Wave=6603 SNR=429.8\n",
      "  num_mask=215/2048\n",
      "Wave=6733 SNR=452.4\n",
      "  num_mask=61/2048\n",
      "Wave=6868 SNR=447.6\n",
      "  num_mask=37/2048\n",
      "Wave=7008 SNR=486.4\n",
      "  num_mask=58/2048\n",
      "Wave=7154 SNR=504.4\n",
      "  num_mask=151/2048\n",
      "Wave=7306 SNR=529.2\n",
      "  num_mask=195/2048\n",
      "Wave=7465 SNR=558.2\n",
      "  num_mask=185/2048\n",
      "Wave=7631 SNR=513.4\n",
      "  num_mask=174/2048\n",
      "Wave=7805 SNR=601.2\n",
      "  num_mask=168/2048\n",
      "Wave=7986 SNR=611.7\n",
      "  num_mask=206/2048\n",
      "Wave=8176 SNR=591.8\n",
      "  num_mask=969/2048\n",
      "Wave=8376 SNR=615.4\n",
      "  1.00 > 0.8 increasing mask_sigma to 4.5\n",
      "  1.00 > 0.8 increasing mask_sigma to 5.0\n",
      "  num_mask=1536/2048\n",
      "Wave=8585 SNR=639.7\n",
      "  1.00 > 0.8 increasing mask_sigma to 4.5\n",
      "  1.00 > 0.8 increasing mask_sigma to 5.0\n",
      "  1.00 > 0.8 increasing mask_sigma to 5.5\n",
      "  1.00 > 0.8 increasing mask_sigma to 6.0\n",
      "  0.90 > 0.8 increasing mask_sigma to 6.5\n",
      "  num_mask=1172/2048\n",
      "Wave=8806 SNR=624.9\n",
      "  1.00 > 0.8 increasing mask_sigma to 4.5\n",
      "  1.00 > 0.8 increasing mask_sigma to 5.0\n",
      "  1.00 > 0.8 increasing mask_sigma to 5.5\n",
      "  1.00 > 0.8 increasing mask_sigma to 6.0\n",
      "  1.00 > 0.8 increasing mask_sigma to 6.5\n",
      "  0.98 > 0.8 increasing mask_sigma to 7.0\n",
      "  num_mask=2001/2048\n",
      "Wave=9038 SNR=555.3\n",
      "  1.00 > 0.8 increasing mask_sigma to 4.5\n",
      "  1.00 > 0.8 increasing mask_sigma to 5.0\n",
      "  1.00 > 0.8 increasing mask_sigma to 5.5\n",
      "  1.00 > 0.8 increasing mask_sigma to 6.0\n",
      "  1.00 > 0.8 increasing mask_sigma to 6.5\n",
      "  1.00 > 0.8 increasing mask_sigma to 7.0\n",
      "  num_mask=2048/2048\n",
      "Wave=9282 SNR=475.8\n",
      "  1.00 > 0.8 increasing mask_sigma to 4.5\n",
      "  1.00 > 0.8 increasing mask_sigma to 5.0\n",
      "  1.00 > 0.8 increasing mask_sigma to 5.5\n",
      "  1.00 > 0.8 increasing mask_sigma to 6.0\n",
      "  1.00 > 0.8 increasing mask_sigma to 6.5\n",
      "  1.00 > 0.8 increasing mask_sigma to 7.0\n",
      "  num_mask=2048/2048\n",
      "3362, 0 regions, drv=-0.6A\n",
      "3389, 0 regions, drv=-0.6A\n",
      "3421, 0 regions, drv=-0.6A\n",
      "3455, 0 regions, drv=-0.6A\n",
      "3488, 0 regions, drv=-0.6A\n",
      "3523, 0 regions, drv=-0.6A\n",
      "3558, 69 regions, drv=-0.6A\n",
      "3594, 63 regions, drv=-0.6A\n",
      "3630, 59 regions, drv=-0.6A\n",
      "3668, 61 regions, drv=-0.7A\n",
      "3706, 40 regions, drv=-0.7A\n",
      "3745, 61 regions, drv=-0.7A\n",
      "3785, 65 regions, drv=-0.7A\n",
      "3826, 62 regions, drv=-0.7A\n",
      "3867, 54 regions, drv=-0.7A\n",
      "3910, 40 regions, drv=-0.7A\n",
      "3953, 32 regions, drv=-0.7A\n",
      "3998, 56 regions, drv=-0.7A\n",
      "4043, 77 regions, drv=-0.7A\n",
      "4090, 77 regions, drv=-0.7A\n",
      "4137, 69 regions, drv=-0.7A\n",
      "4186, 68 regions, drv=-0.7A\n",
      "4236, 62 regions, drv=-0.8A\n",
      "4287, 41 regions, drv=-0.8A\n",
      "4340, 38 regions, drv=-0.8A\n",
      "4393, 47 regions, drv=-0.8A\n",
      "4448, 72 regions, drv=-0.8A\n",
      "4505, 60 regions, drv=-0.8A\n",
      "4562, 54 regions, drv=-0.8A\n",
      "4622, 57 regions, drv=-0.8A\n",
      "4683, 42 regions, drv=-0.8A\n",
      "4745, 39 regions, drv=-0.8A\n",
      "4809, 38 regions, drv=-0.9A\n",
      "4875, 47 regions, drv=-0.9A\n",
      "4904, 25 regions, drv=-0.9A\n",
      "4943, 37 regions, drv=-0.9A\n",
      "4974, 40 regions, drv=-0.9A\n",
      "5013, 49 regions, drv=-0.9A\n",
      "5047, 48 regions, drv=-0.9A\n",
      "5123, 53 regions, drv=-0.9A\n",
      "5201, 64 regions, drv=-0.9A\n",
      "5281, 48 regions, drv=-0.9A\n",
      "5364, 41 regions, drv=-1.0A\n",
      "5449, 37 regions, drv=-1.0A\n",
      "5537, 36 regions, drv=-1.0A\n",
      "5628, 32 regions, drv=-1.0A\n",
      "5722, 18 regions, drv=-1.0A\n",
      "5819, 14 regions, drv=-1.0A\n",
      "5919, 18 regions, drv=-1.0A\n",
      "6023, 17 regions, drv=-1.1A\n",
      "6131, 23 regions, drv=-1.1A\n",
      "6243, 31 regions, drv=-1.1A\n",
      "6358, 23 regions, drv=-1.1A\n",
      "6479, 28 regions, drv=-1.1A\n",
      "6603, 14 regions, drv=-1.2A\n",
      "6733, 7 regions, drv=-1.2A\n",
      "6868, 5 regions, drv=-1.2A\n",
      "7008, 10 regions, drv=-1.2A\n",
      "7154, 23 regions, drv=-1.3A\n",
      "7306, 27 regions, drv=-1.3A\n",
      "7465, 25 regions, drv=-1.3A\n",
      "7631, 23 regions, drv=-1.4A\n",
      "7805, 22 regions, drv=-1.4A\n",
      "7986, 27 regions, drv=-1.4A\n",
      "8176, 19 regions, drv=-1.4A\n",
      "8376, 30 regions, drv=-1.5A\n",
      "8585, 23 regions, drv=-1.5A\n",
      "8806, 3 regions, drv=-1.6A\n",
      "9038, 1 regions, drv=-1.6A\n",
      "9282, 1 regions, drv=-1.6A\n",
      "Total excluded regions = 1396\n",
      "Total to get excluded regions: 7.1\n",
      "Wave=3361\n",
      "Wave=3389\n",
      "Wave=3421\n",
      "Wave=3454\n",
      "Wave=3488\n",
      "Wave=3522\n",
      "Wave=3557\n",
      "Wave=3593\n",
      "Wave=3630\n",
      "Wave=3667\n",
      "  0.02 < 0.05 increasing knot_spacing to 17\n",
      "  0.02 < 0.05 increasing knot_spacing to 19\n",
      "  0.05 < 0.05 increasing knot_spacing to 21\n",
      "  0.05 < 0.05 increasing knot_spacing to 23\n",
      "  0.05 < 0.05 increasing knot_spacing to 25\n",
      "Wave=3705\n",
      "  0.04 < 0.05 increasing knot_spacing to 17\n",
      "Wave=3744\n",
      "Wave=3784\n",
      "Wave=3825\n",
      "Wave=3867\n",
      "Wave=3909\n",
      "  0.04 < 0.05 increasing knot_spacing to 17\n",
      "Wave=3953\n",
      "  0.00 < 0.05 increasing knot_spacing to 17\n",
      "Wave=3997\n",
      "Wave=4043\n",
      "Wave=4089\n",
      "Wave=4137\n",
      "Wave=4186\n",
      "Wave=4235\n",
      "Wave=4287\n",
      "  0.00 < 0.05 increasing knot_spacing to 17\n",
      "  0.00 < 0.05 increasing knot_spacing to 19\n",
      "  0.05 < 0.05 increasing knot_spacing to 21\n",
      "  0.04 < 0.05 increasing knot_spacing to 23\n",
      "Wave=4339\n",
      "Wave=4392\n",
      "  0.04 < 0.05 increasing knot_spacing to 17\n",
      "Wave=4447\n",
      "Wave=4504\n",
      "Wave=4562\n",
      "Wave=4621\n",
      "Wave=4682\n",
      "Wave=4744\n",
      "Wave=4808\n",
      "Wave=4874\n",
      "Wave=4903\n",
      "Wave=4942\n",
      "Wave=4973\n",
      "Wave=5012\n",
      "Wave=5046\n",
      "Wave=5122\n",
      "Wave=5200\n",
      "Wave=5280\n",
      "Wave=5363\n",
      "Wave=5448\n"
     ]
    },
    {
     "name": "stdout",
     "output_type": "stream",
     "text": [
      "Wave=5536\n",
      "Wave=5627\n",
      "Wave=5721\n",
      "Wave=5818\n",
      "Wave=5918\n",
      "Wave=6022\n",
      "Wave=6130\n",
      "Wave=6242\n",
      "Wave=6357\n",
      "Wave=6477\n",
      "Wave=6602\n",
      "Wave=6732\n",
      "Wave=6866\n",
      "Wave=7007\n",
      "Wave=7153\n",
      "Wave=7305\n",
      "Wave=7464\n",
      "Wave=7630\n",
      "Wave=7803\n",
      "Wave=7985\n",
      "Wave=8175\n",
      "Wave=8374\n",
      "  0.01 < 0.05 increasing knot_spacing to 27\n",
      "  0.02 < 0.05 increasing knot_spacing to 29\n",
      "  0.02 < 0.05 increasing knot_spacing to 31\n",
      "  0.01 < 0.05 increasing knot_spacing to 33\n",
      "  0.02 < 0.05 increasing knot_spacing to 35\n",
      "  0.02 < 0.05 increasing knot_spacing to 37\n",
      "  0.03 < 0.05 increasing knot_spacing to 39\n",
      "  0.03 < 0.05 increasing knot_spacing to 41\n",
      "  0.02 < 0.05 increasing knot_spacing to 43\n",
      "  0.02 < 0.05 increasing knot_spacing to 45\n",
      "Wave=8584\n",
      "Wave=8804\n",
      "  0.02 < 0.05 increasing knot_spacing to 27\n",
      "  0.02 < 0.05 increasing knot_spacing to 29\n",
      "Could not succeed in checking knots, stopping at it=3\n",
      "attempt to get argmin of an empty sequence\n",
      "Could not succeed in checking knots, stopping at it=4\n",
      "attempt to get argmin of an empty sequence\n",
      "Could not succeed in checking knots, stopping at it=5\n",
      "attempt to get argmin of an empty sequence\n",
      "Could not succeed in checking knots, stopping at it=6\n",
      "attempt to get argmin of an empty sequence\n",
      "Could not succeed in checking knots, stopping at it=7\n",
      "attempt to get argmin of an empty sequence\n",
      "Could not succeed in checking knots, stopping at it=8\n",
      "attempt to get argmin of an empty sequence\n",
      "Could not succeed in checking knots, stopping at it=9\n",
      "attempt to get argmin of an empty sequence\n",
      "Could not succeed in checking knots, stopping at it=10\n",
      "attempt to get argmin of an empty sequence\n",
      "Wave=9036\n",
      "Spectrum error: continuum indices: []\n",
      "Could not succeed in checking knots, stopping at it=1\n",
      "list indices must be integers or slices, not tuple\n",
      "Spectrum error: continuum indices: []\n",
      "Could not succeed in checking knots, stopping at it=2\n",
      "list indices must be integers or slices, not tuple\n",
      "Spectrum error: continuum indices: []\n",
      "Could not succeed in checking knots, stopping at it=3\n",
      "list indices must be integers or slices, not tuple\n",
      "Spectrum error: continuum indices: []\n",
      "Could not succeed in checking knots, stopping at it=4\n",
      "list indices must be integers or slices, not tuple\n",
      "Spectrum error: continuum indices: []\n",
      "Could not succeed in checking knots, stopping at it=5\n",
      "list indices must be integers or slices, not tuple\n",
      "Spectrum error: continuum indices: []\n",
      "Could not succeed in checking knots, stopping at it=6\n",
      "list indices must be integers or slices, not tuple\n",
      "Spectrum error: continuum indices: []\n",
      "Could not succeed in checking knots, stopping at it=7\n",
      "list indices must be integers or slices, not tuple\n",
      "Spectrum error: continuum indices: []\n",
      "Could not succeed in checking knots, stopping at it=8\n",
      "list indices must be integers or slices, not tuple\n",
      "Spectrum error: continuum indices: []\n",
      "Could not succeed in checking knots, stopping at it=9\n",
      "list indices must be integers or slices, not tuple\n",
      "Spectrum error: continuum indices: []\n",
      "Could not succeed in checking knots, stopping at it=10\n",
      "list indices must be integers or slices, not tuple\n",
      "Wave=9280\n",
      "Spectrum error: continuum indices: []\n",
      "Could not succeed in checking knots, stopping at it=1\n",
      "list indices must be integers or slices, not tuple\n",
      "Spectrum error: continuum indices: []\n",
      "Could not succeed in checking knots, stopping at it=2\n",
      "list indices must be integers or slices, not tuple\n",
      "Spectrum error: continuum indices: []\n",
      "Could not succeed in checking knots, stopping at it=3\n",
      "list indices must be integers or slices, not tuple\n",
      "Spectrum error: continuum indices: []\n",
      "Could not succeed in checking knots, stopping at it=4\n",
      "list indices must be integers or slices, not tuple\n",
      "Spectrum error: continuum indices: []\n",
      "Could not succeed in checking knots, stopping at it=5\n",
      "list indices must be integers or slices, not tuple\n",
      "Spectrum error: continuum indices: []\n",
      "Could not succeed in checking knots, stopping at it=6\n",
      "list indices must be integers or slices, not tuple\n",
      "Spectrum error: continuum indices: []\n",
      "Could not succeed in checking knots, stopping at it=7\n",
      "list indices must be integers or slices, not tuple\n",
      "Spectrum error: continuum indices: []\n",
      "Could not succeed in checking knots, stopping at it=8\n",
      "list indices must be integers or slices, not tuple\n",
      "Spectrum error: continuum indices: []\n",
      "Could not succeed in checking knots, stopping at it=9\n",
      "list indices must be integers or slices, not tuple\n",
      "Spectrum error: continuum indices: []\n",
      "Could not succeed in checking knots, stopping at it=10\n",
      "list indices must be integers or slices, not tuple\n"
     ]
    },
    {
     "name": "stderr",
     "output_type": "stream",
     "text": [
      "/Users/alexji/lib/LESSPayne/LESSPayne/specutils/spectrum.py:77: RuntimeWarning: Mean of empty slice\n",
      "  ivar = np.ones_like(flux) * 1.0/np.nanmean(flux)\n"
     ]
    },
    {
     "name": "stdout",
     "output_type": "stream",
     "text": [
      "Total time to run all: 9.6\n",
      "Saving figure to ./figs/tutorial-hd122563_norm.png\n"
     ]
    },
    {
     "name": "stderr",
     "output_type": "stream",
     "text": [
      "WARNING:matplotlib.font_manager:findfont: Font family ['Bitstream Vera Sans'] not found. Falling back to DejaVu Sans.\n"
     ]
    },
    {
     "name": "stdout",
     "output_type": "stream",
     "text": [
      "Time to save figure: 4.1\n"
     ]
    }
   ],
   "source": [
    "# create SMHR file with normalizations.\n",
    "# Uses PayneEchelle model to find pixels to mask\n",
    "# Creates ./outputs/tutorial-hd122563_lesspayne.smh, overwrites existing files\n",
    "# This file can be opened in a GUI:\n",
    "#  go into LESSPayne/LESSPayne/smh/gui and run `pythonw __main__.py`\n",
    "# Also creates a figure in ./figs/ showing all the normalizations\n",
    "run_normalization(cfg)"
   ]
  },
  {
   "cell_type": "code",
   "execution_count": 7,
   "id": "5482aaff",
   "metadata": {},
   "outputs": [
    {
     "name": "stderr",
     "output_type": "stream",
     "text": [
      "2023-01-09 14:17:00,860 [INFO    ] Recognized CarPy product. Using zero-indexed flux/noise extensions (bands) 1/2\n",
      "INFO:LESSPayne.specutils.spectrum:Recognized CarPy product. Using zero-indexed flux/noise extensions (bands) 1/2\n",
      "2023-01-09 14:17:00,873 [INFO    ] Recognized CarPy product. Using zero-indexed flux/noise extensions (bands) 1/2\n",
      "INFO:LESSPayne.specutils.spectrum:Recognized CarPy product. Using zero-indexed flux/noise extensions (bands) 1/2\n"
     ]
    },
    {
     "name": "stdout",
     "output_type": "stream",
     "text": [
      "Saving to output directory: ./outputs\n",
      "Saving figures to output directory: ./figs\n",
      "Time to add masks to normalizations and import models: 2.2\n",
      "Total time to run all: 3.8\n"
     ]
    }
   ],
   "source": [
    "# fit EQWs\n",
    "# Reads ./outputs/tutorial-hd122563_lesspayne.smh and overwrites this file when it completes\n",
    "run_eqw_fit(cfg)"
   ]
  },
  {
   "cell_type": "code",
   "execution_count": 8,
   "id": "70dd0d47",
   "metadata": {},
   "outputs": [
    {
     "name": "stderr",
     "output_type": "stream",
     "text": [
      "2023-01-09 14:17:04,642 [INFO    ] Recognized CarPy product. Using zero-indexed flux/noise extensions (bands) 1/2\n",
      "INFO:LESSPayne.specutils.spectrum:Recognized CarPy product. Using zero-indexed flux/noise extensions (bands) 1/2\n",
      "2023-01-09 14:17:04,650 [INFO    ] Recognized CarPy product. Using zero-indexed flux/noise extensions (bands) 1/2\n",
      "INFO:LESSPayne.specutils.spectrum:Recognized CarPy product. Using zero-indexed flux/noise extensions (bands) 1/2\n"
     ]
    },
    {
     "name": "stdout",
     "output_type": "stream",
     "text": [
      "Saving to output directory: ./outputs\n",
      "Saving figures to output directory: ./figs\n",
      "Setting aFe=0.4\n",
      "Final stellar parameters: T/g/v/M/a = 4733/1.82/1.75/-2.67/0.40\n",
      "Measuring EQW abundances\n"
     ]
    },
    {
     "name": "stderr",
     "output_type": "stream",
     "text": [
      "/Users/alexji/lib/LESSPayne/LESSPayne/smh/photospheres/castelli_kurucz.py:53: UserWarning: Fourth stellar param is [alpha/Fe] = 0.4\n",
      "  warnings.warn(\n",
      "/Users/alexji/lib/LESSPayne/LESSPayne/smh/photospheres/castelli_kurucz.py:53: UserWarning: Fourth stellar param is [alpha/Fe] = 0.4\n",
      "  warnings.warn(\n"
     ]
    },
    {
     "name": "stdout",
     "output_type": "stream",
     "text": [
      "Total time run_stellar_parameters: 3.1\n"
     ]
    },
    {
     "name": "stderr",
     "output_type": "stream",
     "text": [
      "WARNING:matplotlib.font_manager:findfont: Font family ['Bitstream Vera Sans'] not found. Falling back to DejaVu Sans.\n"
     ]
    },
    {
     "name": "stdout",
     "output_type": "stream",
     "text": [
      "Time to save eqw figure: 2.0\n"
     ]
    }
   ],
   "source": [
    "# put in stellar parameters and (optionally) measure EQW abundances\n",
    "# overwrites the SMH file\n",
    "run_stellar_parameters(cfg)"
   ]
  },
  {
   "cell_type": "code",
   "execution_count": 9,
   "id": "2b012982",
   "metadata": {},
   "outputs": [
    {
     "name": "stderr",
     "output_type": "stream",
     "text": [
      "2023-01-09 14:17:09,735 [INFO    ] Recognized CarPy product. Using zero-indexed flux/noise extensions (bands) 1/2\n",
      "INFO:LESSPayne.specutils.spectrum:Recognized CarPy product. Using zero-indexed flux/noise extensions (bands) 1/2\n",
      "2023-01-09 14:17:09,743 [INFO    ] Recognized CarPy product. Using zero-indexed flux/noise extensions (bands) 1/2\n",
      "INFO:LESSPayne.specutils.spectrum:Recognized CarPy product. Using zero-indexed flux/noise extensions (bands) 1/2\n"
     ]
    },
    {
     "name": "stdout",
     "output_type": "stream",
     "text": [
      "Saving to output directory: ./outputs\n",
      "Saving figures to output directory: ./figs\n"
     ]
    },
    {
     "name": "stderr",
     "output_type": "stream",
     "text": [
      "/Users/alexji/lib/LESSPayne/LESSPayne/smh/photospheres/castelli_kurucz.py:53: UserWarning: Fourth stellar param is [alpha/Fe] = 0.4\n",
      "  warnings.warn(\n",
      "/Users/alexji/lib/LESSPayne/LESSPayne/smh/photospheres/castelli_kurucz.py:53: UserWarning: Fourth stellar param is [alpha/Fe] = 0.4\n",
      "  warnings.warn(\n",
      "WARNING:LESSPayne.smh.session:Could not import ./synthesis_lists/CH4323.moog\n",
      "WARNING:LESSPayne.smh.session:./synthesis_lists/CH4323.moog\n",
      "WARNING:LESSPayne.smh.session:Created 3 models out of 4 in the master list\n"
     ]
    },
    {
     "name": "stdout",
     "output_type": "stream",
     "text": [
      "Importing quick.synth-master-v1.txt\n",
      "type\n",
      "----\n",
      " syn\n",
      " syn\n",
      " syn\n",
      " syn\n",
      "['syn' 'syn' 'syn' 'syn']\n",
      "===========================================\n",
      "======Running synthesis iter 1=============\n",
      "===========================================\n",
      "Fitting 4215.524 [[38.1]]\n"
     ]
    },
    {
     "name": "stderr",
     "output_type": "stream",
     "text": [
      "/Users/alexji/lib/LESSPayne/LESSPayne/smh/photospheres/castelli_kurucz.py:53: UserWarning: Fourth stellar param is [alpha/Fe] = 0.4\n",
      "  warnings.warn(\n",
      "/Users/alexji/lib/LESSPayne/LESSPayne/smh/photospheres/castelli_kurucz.py:53: UserWarning: Fourth stellar param is [alpha/Fe] = 0.4\n",
      "  warnings.warn(\n",
      "/Users/alexji/lib/LESSPayne/LESSPayne/smh/photospheres/castelli_kurucz.py:53: UserWarning: Fourth stellar param is [alpha/Fe] = 0.4\n",
      "  warnings.warn(\n",
      "/Users/alexji/lib/LESSPayne/LESSPayne/smh/photospheres/castelli_kurucz.py:53: UserWarning: Fourth stellar param is [alpha/Fe] = 0.4\n",
      "  warnings.warn(\n",
      "/Users/alexji/lib/LESSPayne/LESSPayne/smh/photospheres/castelli_kurucz.py:53: UserWarning: Fourth stellar param is [alpha/Fe] = 0.4\n",
      "  warnings.warn(\n",
      "/Users/alexji/lib/LESSPayne/LESSPayne/smh/photospheres/castelli_kurucz.py:53: UserWarning: Fourth stellar param is [alpha/Fe] = 0.4\n",
      "  warnings.warn(\n",
      "/Users/alexji/lib/LESSPayne/LESSPayne/smh/photospheres/castelli_kurucz.py:53: UserWarning: Fourth stellar param is [alpha/Fe] = 0.4\n",
      "  warnings.warn(\n",
      "/Users/alexji/lib/LESSPayne/LESSPayne/smh/photospheres/castelli_kurucz.py:53: UserWarning: Fourth stellar param is [alpha/Fe] = 0.4\n",
      "  warnings.warn(\n",
      "/Users/alexji/lib/LESSPayne/LESSPayne/smh/photospheres/castelli_kurucz.py:53: UserWarning: Fourth stellar param is [alpha/Fe] = 0.4\n",
      "  warnings.warn(\n",
      "/Users/alexji/lib/LESSPayne/LESSPayne/smh/photospheres/castelli_kurucz.py:53: UserWarning: Fourth stellar param is [alpha/Fe] = 0.4\n",
      "  warnings.warn(\n",
      "/Users/alexji/lib/LESSPayne/LESSPayne/smh/photospheres/castelli_kurucz.py:53: UserWarning: Fourth stellar param is [alpha/Fe] = 0.4\n",
      "  warnings.warn(\n",
      "/Users/alexji/lib/LESSPayne/LESSPayne/smh/photospheres/castelli_kurucz.py:53: UserWarning: Fourth stellar param is [alpha/Fe] = 0.4\n",
      "  warnings.warn(\n",
      "/Users/alexji/lib/LESSPayne/LESSPayne/smh/photospheres/castelli_kurucz.py:53: UserWarning: Fourth stellar param is [alpha/Fe] = 0.4\n",
      "  warnings.warn(\n",
      "/Users/alexji/lib/LESSPayne/LESSPayne/smh/photospheres/castelli_kurucz.py:53: UserWarning: Fourth stellar param is [alpha/Fe] = 0.4\n",
      "  warnings.warn(\n"
     ]
    },
    {
     "name": "stdout",
     "output_type": "stream",
     "text": [
      "Fitting 4554.029 [[56.1]]\n"
     ]
    },
    {
     "name": "stderr",
     "output_type": "stream",
     "text": [
      "/Users/alexji/lib/LESSPayne/LESSPayne/smh/photospheres/castelli_kurucz.py:53: UserWarning: Fourth stellar param is [alpha/Fe] = 0.4\n",
      "  warnings.warn(\n",
      "/Users/alexji/lib/LESSPayne/LESSPayne/smh/photospheres/castelli_kurucz.py:53: UserWarning: Fourth stellar param is [alpha/Fe] = 0.4\n",
      "  warnings.warn(\n",
      "/Users/alexji/lib/LESSPayne/LESSPayne/smh/photospheres/castelli_kurucz.py:53: UserWarning: Fourth stellar param is [alpha/Fe] = 0.4\n",
      "  warnings.warn(\n",
      "/Users/alexji/lib/LESSPayne/LESSPayne/smh/photospheres/castelli_kurucz.py:53: UserWarning: Fourth stellar param is [alpha/Fe] = 0.4\n",
      "  warnings.warn(\n"
     ]
    },
    {
     "name": "stdout",
     "output_type": "stream",
     "text": [
      "Fitting 4129.72 [[63.1]]\n"
     ]
    },
    {
     "name": "stderr",
     "output_type": "stream",
     "text": [
      "/Users/alexji/lib/LESSPayne/LESSPayne/smh/photospheres/castelli_kurucz.py:53: UserWarning: Fourth stellar param is [alpha/Fe] = 0.4\n",
      "  warnings.warn(\n",
      "/Users/alexji/lib/LESSPayne/LESSPayne/smh/photospheres/castelli_kurucz.py:53: UserWarning: Fourth stellar param is [alpha/Fe] = 0.4\n",
      "  warnings.warn(\n",
      "/Users/alexji/lib/LESSPayne/LESSPayne/smh/photospheres/castelli_kurucz.py:53: UserWarning: Fourth stellar param is [alpha/Fe] = 0.4\n",
      "  warnings.warn(\n",
      "/Users/alexji/lib/LESSPayne/LESSPayne/smh/photospheres/castelli_kurucz.py:53: UserWarning: Fourth stellar param is [alpha/Fe] = 0.4\n",
      "  warnings.warn(\n",
      "/Users/alexji/lib/LESSPayne/LESSPayne/smh/photospheres/castelli_kurucz.py:53: UserWarning: Fourth stellar param is [alpha/Fe] = 0.4\n",
      "  warnings.warn(\n",
      "/Users/alexji/lib/LESSPayne/LESSPayne/smh/photospheres/castelli_kurucz.py:53: UserWarning: Fourth stellar param is [alpha/Fe] = 0.4\n",
      "  warnings.warn(\n",
      "/Users/alexji/lib/LESSPayne/LESSPayne/smh/photospheres/castelli_kurucz.py:53: UserWarning: Fourth stellar param is [alpha/Fe] = 0.4\n",
      "  warnings.warn(\n",
      "/Users/alexji/lib/LESSPayne/LESSPayne/smh/photospheres/castelli_kurucz.py:53: UserWarning: Fourth stellar param is [alpha/Fe] = 0.4\n",
      "  warnings.warn(\n",
      "WARNING:LESSPayne.smh.spectral_models.synthesis:iterfit: Reached 2/3 iter without converging. Now -2.303, last -2.316, tol=0.010\n",
      "/Users/alexji/lib/LESSPayne/LESSPayne/smh/photospheres/castelli_kurucz.py:53: UserWarning: Fourth stellar param is [alpha/Fe] = 0.4\n",
      "  warnings.warn(\n"
     ]
    },
    {
     "name": "stdout",
     "output_type": "stream",
     "text": [
      "===========================================\n",
      "======Running synthesis iter 2=============\n",
      "===========================================\n",
      "Fitting 4215.524 [[38.1]]\n"
     ]
    },
    {
     "name": "stderr",
     "output_type": "stream",
     "text": [
      "/Users/alexji/lib/LESSPayne/LESSPayne/smh/photospheres/castelli_kurucz.py:53: UserWarning: Fourth stellar param is [alpha/Fe] = 0.4\n",
      "  warnings.warn(\n",
      "/Users/alexji/lib/LESSPayne/LESSPayne/smh/photospheres/castelli_kurucz.py:53: UserWarning: Fourth stellar param is [alpha/Fe] = 0.4\n",
      "  warnings.warn(\n",
      "/Users/alexji/lib/LESSPayne/LESSPayne/smh/photospheres/castelli_kurucz.py:53: UserWarning: Fourth stellar param is [alpha/Fe] = 0.4\n",
      "  warnings.warn(\n",
      "/Users/alexji/lib/LESSPayne/LESSPayne/smh/photospheres/castelli_kurucz.py:53: UserWarning: Fourth stellar param is [alpha/Fe] = 0.4\n",
      "  warnings.warn(\n",
      "/Users/alexji/lib/LESSPayne/LESSPayne/smh/photospheres/castelli_kurucz.py:53: UserWarning: Fourth stellar param is [alpha/Fe] = 0.4\n",
      "  warnings.warn(\n",
      "/Users/alexji/lib/LESSPayne/LESSPayne/smh/photospheres/castelli_kurucz.py:53: UserWarning: Fourth stellar param is [alpha/Fe] = 0.4\n",
      "  warnings.warn(\n",
      "/Users/alexji/lib/LESSPayne/LESSPayne/smh/photospheres/castelli_kurucz.py:53: UserWarning: Fourth stellar param is [alpha/Fe] = 0.4\n",
      "  warnings.warn(\n"
     ]
    },
    {
     "name": "stdout",
     "output_type": "stream",
     "text": [
      "Fitting 4554.029 [[56.1]]\n"
     ]
    },
    {
     "name": "stderr",
     "output_type": "stream",
     "text": [
      "/Users/alexji/lib/LESSPayne/LESSPayne/smh/photospheres/castelli_kurucz.py:53: UserWarning: Fourth stellar param is [alpha/Fe] = 0.4\n",
      "  warnings.warn(\n",
      "/Users/alexji/lib/LESSPayne/LESSPayne/smh/photospheres/castelli_kurucz.py:53: UserWarning: Fourth stellar param is [alpha/Fe] = 0.4\n",
      "  warnings.warn(\n",
      "/Users/alexji/lib/LESSPayne/LESSPayne/smh/photospheres/castelli_kurucz.py:53: UserWarning: Fourth stellar param is [alpha/Fe] = 0.4\n",
      "  warnings.warn(\n",
      "/Users/alexji/lib/LESSPayne/LESSPayne/smh/photospheres/castelli_kurucz.py:53: UserWarning: Fourth stellar param is [alpha/Fe] = 0.4\n",
      "  warnings.warn(\n"
     ]
    },
    {
     "name": "stdout",
     "output_type": "stream",
     "text": [
      "Fitting 4129.72 [[63.1]]\n"
     ]
    },
    {
     "name": "stderr",
     "output_type": "stream",
     "text": [
      "/Users/alexji/lib/LESSPayne/LESSPayne/smh/photospheres/castelli_kurucz.py:53: UserWarning: Fourth stellar param is [alpha/Fe] = 0.4\n",
      "  warnings.warn(\n",
      "/Users/alexji/lib/LESSPayne/LESSPayne/smh/photospheres/castelli_kurucz.py:53: UserWarning: Fourth stellar param is [alpha/Fe] = 0.4\n",
      "  warnings.warn(\n",
      "/Users/alexji/lib/LESSPayne/LESSPayne/smh/photospheres/castelli_kurucz.py:53: UserWarning: Fourth stellar param is [alpha/Fe] = 0.4\n",
      "  warnings.warn(\n",
      "/Users/alexji/lib/LESSPayne/LESSPayne/smh/photospheres/castelli_kurucz.py:53: UserWarning: Fourth stellar param is [alpha/Fe] = 0.4\n",
      "  warnings.warn(\n"
     ]
    },
    {
     "name": "stdout",
     "output_type": "stream",
     "text": [
      "===========================================\n",
      "======Running synthesis iter 3=============\n",
      "===========================================\n",
      "Fitting 4215.524 [[38.1]]\n"
     ]
    },
    {
     "name": "stderr",
     "output_type": "stream",
     "text": [
      "/Users/alexji/lib/LESSPayne/LESSPayne/smh/photospheres/castelli_kurucz.py:53: UserWarning: Fourth stellar param is [alpha/Fe] = 0.4\n",
      "  warnings.warn(\n",
      "/Users/alexji/lib/LESSPayne/LESSPayne/smh/photospheres/castelli_kurucz.py:53: UserWarning: Fourth stellar param is [alpha/Fe] = 0.4\n",
      "  warnings.warn(\n",
      "/Users/alexji/lib/LESSPayne/LESSPayne/smh/photospheres/castelli_kurucz.py:53: UserWarning: Fourth stellar param is [alpha/Fe] = 0.4\n",
      "  warnings.warn(\n",
      "/Users/alexji/lib/LESSPayne/LESSPayne/smh/photospheres/castelli_kurucz.py:53: UserWarning: Fourth stellar param is [alpha/Fe] = 0.4\n",
      "  warnings.warn(\n",
      "/Users/alexji/lib/LESSPayne/LESSPayne/smh/photospheres/castelli_kurucz.py:53: UserWarning: Fourth stellar param is [alpha/Fe] = 0.4\n",
      "  warnings.warn(\n",
      "/Users/alexji/lib/LESSPayne/LESSPayne/smh/photospheres/castelli_kurucz.py:53: UserWarning: Fourth stellar param is [alpha/Fe] = 0.4\n",
      "  warnings.warn(\n",
      "/Users/alexji/lib/LESSPayne/LESSPayne/smh/photospheres/castelli_kurucz.py:53: UserWarning: Fourth stellar param is [alpha/Fe] = 0.4\n",
      "  warnings.warn(\n",
      "/Users/alexji/lib/LESSPayne/LESSPayne/smh/photospheres/castelli_kurucz.py:53: UserWarning: Fourth stellar param is [alpha/Fe] = 0.4\n",
      "  warnings.warn(\n"
     ]
    },
    {
     "name": "stdout",
     "output_type": "stream",
     "text": [
      "Fitting 4554.029 [[56.1]]\n"
     ]
    },
    {
     "name": "stderr",
     "output_type": "stream",
     "text": [
      "/Users/alexji/lib/LESSPayne/LESSPayne/smh/photospheres/castelli_kurucz.py:53: UserWarning: Fourth stellar param is [alpha/Fe] = 0.4\n",
      "  warnings.warn(\n",
      "/Users/alexji/lib/LESSPayne/LESSPayne/smh/photospheres/castelli_kurucz.py:53: UserWarning: Fourth stellar param is [alpha/Fe] = 0.4\n",
      "  warnings.warn(\n",
      "/Users/alexji/lib/LESSPayne/LESSPayne/smh/photospheres/castelli_kurucz.py:53: UserWarning: Fourth stellar param is [alpha/Fe] = 0.4\n",
      "  warnings.warn(\n",
      "/Users/alexji/lib/LESSPayne/LESSPayne/smh/photospheres/castelli_kurucz.py:53: UserWarning: Fourth stellar param is [alpha/Fe] = 0.4\n",
      "  warnings.warn(\n"
     ]
    },
    {
     "name": "stdout",
     "output_type": "stream",
     "text": [
      "Fitting 4129.72 [[63.1]]\n"
     ]
    },
    {
     "name": "stderr",
     "output_type": "stream",
     "text": [
      "/Users/alexji/lib/LESSPayne/LESSPayne/smh/photospheres/castelli_kurucz.py:53: UserWarning: Fourth stellar param is [alpha/Fe] = 0.4\n",
      "  warnings.warn(\n",
      "/Users/alexji/lib/LESSPayne/LESSPayne/smh/photospheres/castelli_kurucz.py:53: UserWarning: Fourth stellar param is [alpha/Fe] = 0.4\n",
      "  warnings.warn(\n",
      "/Users/alexji/lib/LESSPayne/LESSPayne/smh/photospheres/castelli_kurucz.py:53: UserWarning: Fourth stellar param is [alpha/Fe] = 0.4\n",
      "  warnings.warn(\n",
      "/Users/alexji/lib/LESSPayne/LESSPayne/smh/photospheres/castelli_kurucz.py:53: UserWarning: Fourth stellar param is [alpha/Fe] = 0.4\n",
      "  warnings.warn(\n",
      "/Users/alexji/lib/LESSPayne/LESSPayne/smh/photospheres/castelli_kurucz.py:53: UserWarning: Fourth stellar param is [alpha/Fe] = 0.4\n",
      "  warnings.warn(\n",
      "/Users/alexji/lib/LESSPayne/LESSPayne/smh/photospheres/castelli_kurucz.py:53: UserWarning: Fourth stellar param is [alpha/Fe] = 0.4\n",
      "  warnings.warn(\n",
      "/Users/alexji/lib/LESSPayne/LESSPayne/smh/photospheres/castelli_kurucz.py:53: UserWarning: Fourth stellar param is [alpha/Fe] = 0.4\n",
      "  warnings.warn(\n",
      "/Users/alexji/lib/LESSPayne/LESSPayne/smh/photospheres/castelli_kurucz.py:53: UserWarning: Fourth stellar param is [alpha/Fe] = 0.4\n",
      "  warnings.warn(\n",
      "WARNING:LESSPayne.smh.spectral_models.synthesis:iterfit: Reached 2/3 iter without converging. Now -2.529, last -2.543, tol=0.010\n",
      "/Users/alexji/lib/LESSPayne/LESSPayne/smh/photospheres/castelli_kurucz.py:53: UserWarning: Fourth stellar param is [alpha/Fe] = 0.4\n",
      "  warnings.warn(\n"
     ]
    },
    {
     "name": "stdout",
     "output_type": "stream",
     "text": [
      "===========================================\n",
      "======Running synthesis iter 4=============\n",
      "===========================================\n",
      "Fitting 4215.524 [[38.1]]\n"
     ]
    },
    {
     "name": "stderr",
     "output_type": "stream",
     "text": [
      "/Users/alexji/lib/LESSPayne/LESSPayne/smh/photospheres/castelli_kurucz.py:53: UserWarning: Fourth stellar param is [alpha/Fe] = 0.4\n",
      "  warnings.warn(\n",
      "/Users/alexji/lib/LESSPayne/LESSPayne/smh/photospheres/castelli_kurucz.py:53: UserWarning: Fourth stellar param is [alpha/Fe] = 0.4\n",
      "  warnings.warn(\n",
      "/Users/alexji/lib/LESSPayne/LESSPayne/smh/photospheres/castelli_kurucz.py:53: UserWarning: Fourth stellar param is [alpha/Fe] = 0.4\n",
      "  warnings.warn(\n"
     ]
    },
    {
     "name": "stdout",
     "output_type": "stream",
     "text": [
      "Fitting 4554.029 [[56.1]]\n"
     ]
    },
    {
     "name": "stderr",
     "output_type": "stream",
     "text": [
      "/Users/alexji/lib/LESSPayne/LESSPayne/smh/photospheres/castelli_kurucz.py:53: UserWarning: Fourth stellar param is [alpha/Fe] = 0.4\n",
      "  warnings.warn(\n",
      "/Users/alexji/lib/LESSPayne/LESSPayne/smh/photospheres/castelli_kurucz.py:53: UserWarning: Fourth stellar param is [alpha/Fe] = 0.4\n",
      "  warnings.warn(\n",
      "/Users/alexji/lib/LESSPayne/LESSPayne/smh/photospheres/castelli_kurucz.py:53: UserWarning: Fourth stellar param is [alpha/Fe] = 0.4\n",
      "  warnings.warn(\n",
      "/Users/alexji/lib/LESSPayne/LESSPayne/smh/photospheres/castelli_kurucz.py:53: UserWarning: Fourth stellar param is [alpha/Fe] = 0.4\n",
      "  warnings.warn(\n"
     ]
    },
    {
     "name": "stdout",
     "output_type": "stream",
     "text": [
      "Fitting 4129.72 [[63.1]]\n"
     ]
    },
    {
     "name": "stderr",
     "output_type": "stream",
     "text": [
      "/Users/alexji/lib/LESSPayne/LESSPayne/smh/photospheres/castelli_kurucz.py:53: UserWarning: Fourth stellar param is [alpha/Fe] = 0.4\n",
      "  warnings.warn(\n",
      "/Users/alexji/lib/LESSPayne/LESSPayne/smh/photospheres/castelli_kurucz.py:53: UserWarning: Fourth stellar param is [alpha/Fe] = 0.4\n",
      "  warnings.warn(\n",
      "/Users/alexji/lib/LESSPayne/LESSPayne/smh/photospheres/castelli_kurucz.py:53: UserWarning: Fourth stellar param is [alpha/Fe] = 0.4\n",
      "  warnings.warn(\n",
      "/Users/alexji/lib/LESSPayne/LESSPayne/smh/photospheres/castelli_kurucz.py:53: UserWarning: Fourth stellar param is [alpha/Fe] = 0.4\n",
      "  warnings.warn(\n",
      "/Users/alexji/lib/LESSPayne/LESSPayne/smh/photospheres/castelli_kurucz.py:53: UserWarning: Fourth stellar param is [alpha/Fe] = 0.4\n",
      "  warnings.warn(\n",
      "/Users/alexji/lib/LESSPayne/LESSPayne/smh/photospheres/castelli_kurucz.py:53: UserWarning: Fourth stellar param is [alpha/Fe] = 0.4\n",
      "  warnings.warn(\n",
      "/Users/alexji/lib/LESSPayne/LESSPayne/smh/photospheres/castelli_kurucz.py:53: UserWarning: Fourth stellar param is [alpha/Fe] = 0.4\n",
      "  warnings.warn(\n",
      "/Users/alexji/lib/LESSPayne/LESSPayne/smh/photospheres/castelli_kurucz.py:53: UserWarning: Fourth stellar param is [alpha/Fe] = 0.4\n",
      "  warnings.warn(\n",
      "/Users/alexji/lib/LESSPayne/LESSPayne/smh/photospheres/castelli_kurucz.py:53: UserWarning: Fourth stellar param is [alpha/Fe] = 0.4\n",
      "  warnings.warn(\n",
      "/Users/alexji/lib/LESSPayne/LESSPayne/smh/photospheres/castelli_kurucz.py:53: UserWarning: Fourth stellar param is [alpha/Fe] = 0.4\n",
      "  warnings.warn(\n"
     ]
    },
    {
     "name": "stdout",
     "output_type": "stream",
     "text": [
      "Total time run_synth_fit: 78.5\n"
     ]
    }
   ],
   "source": [
    "# import and iteratively fit syntheses\n",
    "# overwrites the SMH file\n",
    "run_synth_fit(cfg)"
   ]
  },
  {
   "cell_type": "code",
   "execution_count": 10,
   "id": "423d6529",
   "metadata": {},
   "outputs": [
    {
     "name": "stdout",
     "output_type": "stream",
     "text": [
      "If restart/runall, this took 187.9 seconds\n"
     ]
    }
   ],
   "source": [
    "print(f\"If restart/runall, this took {time.time()-startall:.1f} seconds\")"
   ]
  },
  {
   "cell_type": "markdown",
   "id": "98a1232d",
   "metadata": {},
   "source": [
    "At the end of this is an SMHR file in outputs/tutorial-hd122563_lesspayne.smh.\n",
    "\n",
    "In general it is wise to do this in stages:\n",
    "* run PayneEchelle (2-5 minutes), and optionally inspect the automatic fit to make sure it's OK\n",
    "* run normalization. Once this is done, inspect the SMH file and make any manual modifications to normalization.\n",
    "* run eqw fits. When this is done, inspect the SMH file and make any manual changes to the EQW fits.\n",
    "* run stellar parameters. Right now the only options are to manually specify the parameters, or to use a calibrated version of the PayneEchelle parameters (calibrated to RPA Duplicates).\n",
    "* once you are happy with EQW fits and stellar parameters, run synthesis fits. If running a lot of syntheses, this is the most time consuming part as it needs to iterate multiple times.\n",
    "\n",
    "After the normalizations, you can always edit the SMH file manually to fix anything that didn't automatically work."
   ]
  }
 ],
 "metadata": {
  "kernelspec": {
   "display_name": "Python 3 (ipykernel)",
   "language": "python",
   "name": "python3"
  },
  "language_info": {
   "codemirror_mode": {
    "name": "ipython",
    "version": 3
   },
   "file_extension": ".py",
   "mimetype": "text/x-python",
   "name": "python",
   "nbconvert_exporter": "python",
   "pygments_lexer": "ipython3",
   "version": "3.8.15"
  }
 },
 "nbformat": 4,
 "nbformat_minor": 5
}
